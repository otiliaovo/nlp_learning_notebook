{
 "cells": [
  {
   "cell_type": "code",
   "execution_count": 15,
   "id": "a40ada71-7b9f-4e0e-89e1-7e12eb5ffd5b",
   "metadata": {},
   "outputs": [],
   "source": [
    "import pandas as pd\n",
    "import jieba"
   ]
  },
  {
   "cell_type": "code",
   "execution_count": null,
   "id": "0ddca4d8-1486-4d73-9ef9-38e4248a1381",
   "metadata": {},
   "outputs": [],
   "source": [
    "# preprocessed the text"
   ]
  },
  {
   "cell_type": "code",
   "execution_count": 4,
   "id": "57208c1f-002a-4886-9655-abfd09c63b99",
   "metadata": {},
   "outputs": [],
   "source": [
    "df = pd.read_csv(\"Comment.csv\")"
   ]
  },
  {
   "cell_type": "code",
   "execution_count": 5,
   "id": "2a8e05de-9c65-4613-af09-3a7d1ae23c55",
   "metadata": {},
   "outputs": [
    {
     "name": "stderr",
     "output_type": "stream",
     "text": [
      "C:\\Users\\Yanhong\\AppData\\Local\\Temp\\ipykernel_9996\\286455840.py:1: FutureWarning: Downcasting behavior in `replace` is deprecated and will be removed in a future version. To retain the old behavior, explicitly call `result.infer_objects(copy=False)`. To opt-in to the future behavior, set `pd.set_option('future.no_silent_downcasting', True)`\n",
      "  df['valence'] = df['valence'].replace({'positive': 1, 'negative': 0})\n"
     ]
    },
    {
     "data": {
      "text/html": [
       "<div>\n",
       "<style scoped>\n",
       "    .dataframe tbody tr th:only-of-type {\n",
       "        vertical-align: middle;\n",
       "    }\n",
       "\n",
       "    .dataframe tbody tr th {\n",
       "        vertical-align: top;\n",
       "    }\n",
       "\n",
       "    .dataframe thead th {\n",
       "        text-align: right;\n",
       "    }\n",
       "</style>\n",
       "<table border=\"1\" class=\"dataframe\">\n",
       "  <thead>\n",
       "    <tr style=\"text-align: right;\">\n",
       "      <th></th>\n",
       "      <th>comment</th>\n",
       "      <th>valence</th>\n",
       "    </tr>\n",
       "  </thead>\n",
       "  <tbody>\n",
       "    <tr>\n",
       "      <th>0</th>\n",
       "      <td>校方不是采取法律行动了吗？再等等看吧。</td>\n",
       "      <td>1</td>\n",
       "    </tr>\n",
       "    <tr>\n",
       "      <th>1</th>\n",
       "      <td>建议国内高等学校学习一下美国的做法</td>\n",
       "      <td>1</td>\n",
       "    </tr>\n",
       "    <tr>\n",
       "      <th>2</th>\n",
       "      <td>川普真棒</td>\n",
       "      <td>1</td>\n",
       "    </tr>\n",
       "    <tr>\n",
       "      <th>3</th>\n",
       "      <td>好好好</td>\n",
       "      <td>1</td>\n",
       "    </tr>\n",
       "    <tr>\n",
       "      <th>4</th>\n",
       "      <td>闭关锁国川普是在行的</td>\n",
       "      <td>1</td>\n",
       "    </tr>\n",
       "    <tr>\n",
       "      <th>...</th>\n",
       "      <td>...</td>\n",
       "      <td>...</td>\n",
       "    </tr>\n",
       "    <tr>\n",
       "      <th>123</th>\n",
       "      <td>你应该回国，建设中国🇨🇳</td>\n",
       "      <td>0</td>\n",
       "    </tr>\n",
       "    <tr>\n",
       "      <th>124</th>\n",
       "      <td>美国特朗普太邪恶了</td>\n",
       "      <td>0</td>\n",
       "    </tr>\n",
       "    <tr>\n",
       "      <th>125</th>\n",
       "      <td>造吧把国家造没了那可太好了</td>\n",
       "      <td>0</td>\n",
       "    </tr>\n",
       "    <tr>\n",
       "      <th>126</th>\n",
       "      <td>感觉老特办事和孩子过家家似的，一懵一懵的</td>\n",
       "      <td>0</td>\n",
       "    </tr>\n",
       "    <tr>\n",
       "      <th>127</th>\n",
       "      <td>把哈弗给炸了</td>\n",
       "      <td>0</td>\n",
       "    </tr>\n",
       "  </tbody>\n",
       "</table>\n",
       "<p>128 rows × 2 columns</p>\n",
       "</div>"
      ],
      "text/plain": [
       "                  comment  valence\n",
       "0     校方不是采取法律行动了吗？再等等看吧。        1\n",
       "1       建议国内高等学校学习一下美国的做法        1\n",
       "2                    川普真棒        1\n",
       "3                     好好好        1\n",
       "4              闭关锁国川普是在行的        1\n",
       "..                    ...      ...\n",
       "123          你应该回国，建设中国🇨🇳        0\n",
       "124             美国特朗普太邪恶了        0\n",
       "125         造吧把国家造没了那可太好了        0\n",
       "126  感觉老特办事和孩子过家家似的，一懵一懵的        0\n",
       "127                把哈弗给炸了        0\n",
       "\n",
       "[128 rows x 2 columns]"
      ]
     },
     "execution_count": 5,
     "metadata": {},
     "output_type": "execute_result"
    }
   ],
   "source": [
    "df['valence'] = df['valence'].replace({'positive': 1, 'negative': 0})\n",
    "df"
   ]
  },
  {
   "cell_type": "code",
   "execution_count": 6,
   "id": "2ce3758e-6f53-4167-a5e3-b60571c049b8",
   "metadata": {},
   "outputs": [
    {
     "name": "stderr",
     "output_type": "stream",
     "text": [
      "Building prefix dict from the default dictionary ...\n",
      "Loading model from cache C:\\Users\\Yanhong\\AppData\\Local\\Temp\\jieba.cache\n",
      "Loading model cost 0.823 seconds.\n",
      "Prefix dict has been built successfully.\n"
     ]
    },
    {
     "data": {
      "text/plain": [
       "['我', '喜欢', '学习', '自然语言', '处理', '。']"
      ]
     },
     "execution_count": 6,
     "metadata": {},
     "output_type": "execute_result"
    }
   ],
   "source": [
    "text = \"我喜欢学习自然语言处理。\"\n",
    "list(jieba.cut(text))"
   ]
  },
  {
   "cell_type": "code",
   "execution_count": 7,
   "id": "4e1fd701-f821-46e1-803b-513502a062a3",
   "metadata": {},
   "outputs": [],
   "source": [
    "def tokenize(text):\n",
    "    return \" \".join(jieba.cut(text))"
   ]
  },
  {
   "cell_type": "code",
   "execution_count": 8,
   "id": "f5901601-66aa-45af-a901-321bc0395d55",
   "metadata": {},
   "outputs": [
    {
     "data": {
      "text/html": [
       "<div>\n",
       "<style scoped>\n",
       "    .dataframe tbody tr th:only-of-type {\n",
       "        vertical-align: middle;\n",
       "    }\n",
       "\n",
       "    .dataframe tbody tr th {\n",
       "        vertical-align: top;\n",
       "    }\n",
       "\n",
       "    .dataframe thead th {\n",
       "        text-align: right;\n",
       "    }\n",
       "</style>\n",
       "<table border=\"1\" class=\"dataframe\">\n",
       "  <thead>\n",
       "    <tr style=\"text-align: right;\">\n",
       "      <th></th>\n",
       "      <th>comment</th>\n",
       "      <th>valence</th>\n",
       "      <th>comment_cut</th>\n",
       "    </tr>\n",
       "  </thead>\n",
       "  <tbody>\n",
       "    <tr>\n",
       "      <th>0</th>\n",
       "      <td>校方不是采取法律行动了吗？再等等看吧。</td>\n",
       "      <td>1</td>\n",
       "      <td>校方 不是 采取 法律 行动 了 吗 ？ 再 等等 看吧 。</td>\n",
       "    </tr>\n",
       "    <tr>\n",
       "      <th>1</th>\n",
       "      <td>建议国内高等学校学习一下美国的做法</td>\n",
       "      <td>1</td>\n",
       "      <td>建议 国内 高等学校 学习 一下 美国 的 做法</td>\n",
       "    </tr>\n",
       "    <tr>\n",
       "      <th>2</th>\n",
       "      <td>川普真棒</td>\n",
       "      <td>1</td>\n",
       "      <td>川普 真棒</td>\n",
       "    </tr>\n",
       "    <tr>\n",
       "      <th>3</th>\n",
       "      <td>好好好</td>\n",
       "      <td>1</td>\n",
       "      <td>好好 好</td>\n",
       "    </tr>\n",
       "    <tr>\n",
       "      <th>4</th>\n",
       "      <td>闭关锁国川普是在行的</td>\n",
       "      <td>1</td>\n",
       "      <td>闭关锁国 川普是 在 行 的</td>\n",
       "    </tr>\n",
       "    <tr>\n",
       "      <th>...</th>\n",
       "      <td>...</td>\n",
       "      <td>...</td>\n",
       "      <td>...</td>\n",
       "    </tr>\n",
       "    <tr>\n",
       "      <th>123</th>\n",
       "      <td>你应该回国，建设中国🇨🇳</td>\n",
       "      <td>0</td>\n",
       "      <td>你 应该 回国 ， 建设 中国 🇨 🇳</td>\n",
       "    </tr>\n",
       "    <tr>\n",
       "      <th>124</th>\n",
       "      <td>美国特朗普太邪恶了</td>\n",
       "      <td>0</td>\n",
       "      <td>美国 特朗普 太 邪恶 了</td>\n",
       "    </tr>\n",
       "    <tr>\n",
       "      <th>125</th>\n",
       "      <td>造吧把国家造没了那可太好了</td>\n",
       "      <td>0</td>\n",
       "      <td>造 吧 把 国家 造 没 了 那 可 太好了</td>\n",
       "    </tr>\n",
       "    <tr>\n",
       "      <th>126</th>\n",
       "      <td>感觉老特办事和孩子过家家似的，一懵一懵的</td>\n",
       "      <td>0</td>\n",
       "      <td>感觉 老特 办事 和 孩子 过家家 似的 ， 一懵一 懵 的</td>\n",
       "    </tr>\n",
       "    <tr>\n",
       "      <th>127</th>\n",
       "      <td>把哈弗给炸了</td>\n",
       "      <td>0</td>\n",
       "      <td>把 哈弗给 炸 了</td>\n",
       "    </tr>\n",
       "  </tbody>\n",
       "</table>\n",
       "<p>128 rows × 3 columns</p>\n",
       "</div>"
      ],
      "text/plain": [
       "                  comment  valence                     comment_cut\n",
       "0     校方不是采取法律行动了吗？再等等看吧。        1  校方 不是 采取 法律 行动 了 吗 ？ 再 等等 看吧 。\n",
       "1       建议国内高等学校学习一下美国的做法        1        建议 国内 高等学校 学习 一下 美国 的 做法\n",
       "2                    川普真棒        1                           川普 真棒\n",
       "3                     好好好        1                            好好 好\n",
       "4              闭关锁国川普是在行的        1                  闭关锁国 川普是 在 行 的\n",
       "..                    ...      ...                             ...\n",
       "123          你应该回国，建设中国🇨🇳        0             你 应该 回国 ， 建设 中国 🇨 🇳\n",
       "124             美国特朗普太邪恶了        0                   美国 特朗普 太 邪恶 了\n",
       "125         造吧把国家造没了那可太好了        0          造 吧 把 国家 造 没 了 那 可 太好了\n",
       "126  感觉老特办事和孩子过家家似的，一懵一懵的        0  感觉 老特 办事 和 孩子 过家家 似的 ， 一懵一 懵 的\n",
       "127                把哈弗给炸了        0                       把 哈弗给 炸 了\n",
       "\n",
       "[128 rows x 3 columns]"
      ]
     },
     "execution_count": 8,
     "metadata": {},
     "output_type": "execute_result"
    }
   ],
   "source": [
    "df['comment_cut'] = df['comment'].apply(tokenize)\n",
    "df"
   ]
  },
  {
   "cell_type": "code",
   "execution_count": 9,
   "id": "281999ce-cae3-46a5-ae08-62b8b5ddd49d",
   "metadata": {},
   "outputs": [
    {
     "data": {
      "text/plain": [
       "np.int64(50)"
      ]
     },
     "execution_count": 9,
     "metadata": {},
     "output_type": "execute_result"
    }
   ],
   "source": [
    "(df[\"valence\"]==1).sum()"
   ]
  },
  {
   "cell_type": "code",
   "execution_count": null,
   "id": "bed81d37-b306-4ff1-929e-4ce84f0e71e5",
   "metadata": {},
   "outputs": [],
   "source": [
    "# Build the required DF"
   ]
  },
  {
   "cell_type": "code",
   "execution_count": 10,
   "id": "7195f28f-82f7-4a97-89a8-ff815d1a861e",
   "metadata": {},
   "outputs": [
    {
     "data": {
      "text/html": [
       "<div>\n",
       "<style scoped>\n",
       "    .dataframe tbody tr th:only-of-type {\n",
       "        vertical-align: middle;\n",
       "    }\n",
       "\n",
       "    .dataframe tbody tr th {\n",
       "        vertical-align: top;\n",
       "    }\n",
       "\n",
       "    .dataframe thead th {\n",
       "        text-align: right;\n",
       "    }\n",
       "</style>\n",
       "<table border=\"1\" class=\"dataframe\">\n",
       "  <thead>\n",
       "    <tr style=\"text-align: right;\">\n",
       "      <th></th>\n",
       "      <th>comment</th>\n",
       "      <th>valence</th>\n",
       "      <th>comment_cut</th>\n",
       "    </tr>\n",
       "  </thead>\n",
       "  <tbody>\n",
       "    <tr>\n",
       "      <th>0</th>\n",
       "      <td>上网课可以么</td>\n",
       "      <td>1</td>\n",
       "      <td>上网 课 可以 么</td>\n",
       "    </tr>\n",
       "    <tr>\n",
       "      <th>1</th>\n",
       "      <td>我因为毕业院校填了北京科技大学，被拒签了</td>\n",
       "      <td>1</td>\n",
       "      <td>我 因为 毕业 院校 填 了 北京科技大学 ， 被 拒签 了</td>\n",
       "    </tr>\n",
       "    <tr>\n",
       "      <th>2</th>\n",
       "      <td>不要觉得川普癫，他每走的一步棋都釜底抽薪的狠招！普通人做不到他这么针针见血</td>\n",
       "      <td>1</td>\n",
       "      <td>不要 觉得 川普癫 ， 他 每 走 的 一步棋 都 釜底抽薪 的 狠招 ！ 普通人 做 不到...</td>\n",
       "    </tr>\n",
       "    <tr>\n",
       "      <th>3</th>\n",
       "      <td>挺好的，人才都回来吧，国家自己用</td>\n",
       "      <td>1</td>\n",
       "      <td>挺 好 的 ， 人才 都 回来 吧 ， 国家 自己 用</td>\n",
       "    </tr>\n",
       "    <tr>\n",
       "      <th>4</th>\n",
       "      <td>学费退吗？</td>\n",
       "      <td>1</td>\n",
       "      <td>学费 退 吗 ？</td>\n",
       "    </tr>\n",
       "    <tr>\n",
       "      <th>...</th>\n",
       "      <td>...</td>\n",
       "      <td>...</td>\n",
       "      <td>...</td>\n",
       "    </tr>\n",
       "    <tr>\n",
       "      <th>95</th>\n",
       "      <td>魔幻的国家，魔幻的总统，倒霉的是外籍普通民众，他送儿子上NYU，是不是怕儿子去藤校会被国际生群殴</td>\n",
       "      <td>0</td>\n",
       "      <td>魔幻 的 国家 ， 魔幻 的 总统 ， 倒霉 的 是 外籍 普通 民众 ， 他 送 儿子 上...</td>\n",
       "    </tr>\n",
       "    <tr>\n",
       "      <th>96</th>\n",
       "      <td>深刻感受到科学有国界了吧！记住此刻的感受！愿安全归来！</td>\n",
       "      <td>0</td>\n",
       "      <td>深刻 感受 到 科学 有 国界 了 吧 ！ 记住 此刻 的 感受 ！ 愿 安全 归来 ！</td>\n",
       "    </tr>\n",
       "    <tr>\n",
       "      <th>97</th>\n",
       "      <td>造吧把国家造没了那可太好了</td>\n",
       "      <td>0</td>\n",
       "      <td>造 吧 把 国家 造 没 了 那 可 太好了</td>\n",
       "    </tr>\n",
       "    <tr>\n",
       "      <th>98</th>\n",
       "      <td>特朗普发疯again~</td>\n",
       "      <td>0</td>\n",
       "      <td>特朗普 发疯 again ~</td>\n",
       "    </tr>\n",
       "    <tr>\n",
       "      <th>99</th>\n",
       "      <td>打官司索赔</td>\n",
       "      <td>0</td>\n",
       "      <td>打官司 索赔</td>\n",
       "    </tr>\n",
       "  </tbody>\n",
       "</table>\n",
       "<p>100 rows × 3 columns</p>\n",
       "</div>"
      ],
      "text/plain": [
       "                                             comment  valence  \\\n",
       "0                                             上网课可以么        1   \n",
       "1                               我因为毕业院校填了北京科技大学，被拒签了        1   \n",
       "2              不要觉得川普癫，他每走的一步棋都釜底抽薪的狠招！普通人做不到他这么针针见血        1   \n",
       "3                                   挺好的，人才都回来吧，国家自己用        1   \n",
       "4                                              学费退吗？        1   \n",
       "..                                               ...      ...   \n",
       "95  魔幻的国家，魔幻的总统，倒霉的是外籍普通民众，他送儿子上NYU，是不是怕儿子去藤校会被国际生群殴        0   \n",
       "96                       深刻感受到科学有国界了吧！记住此刻的感受！愿安全归来！        0   \n",
       "97                                     造吧把国家造没了那可太好了        0   \n",
       "98                                       特朗普发疯again~        0   \n",
       "99                                             打官司索赔        0   \n",
       "\n",
       "                                          comment_cut  \n",
       "0                                           上网 课 可以 么  \n",
       "1                      我 因为 毕业 院校 填 了 北京科技大学 ， 被 拒签 了  \n",
       "2   不要 觉得 川普癫 ， 他 每 走 的 一步棋 都 釜底抽薪 的 狠招 ！ 普通人 做 不到...  \n",
       "3                         挺 好 的 ， 人才 都 回来 吧 ， 国家 自己 用  \n",
       "4                                            学费 退 吗 ？  \n",
       "..                                                ...  \n",
       "95  魔幻 的 国家 ， 魔幻 的 总统 ， 倒霉 的 是 外籍 普通 民众 ， 他 送 儿子 上...  \n",
       "96       深刻 感受 到 科学 有 国界 了 吧 ！ 记住 此刻 的 感受 ！ 愿 安全 归来 ！  \n",
       "97                             造 吧 把 国家 造 没 了 那 可 太好了  \n",
       "98                                     特朗普 发疯 again ~  \n",
       "99                                             打官司 索赔  \n",
       "\n",
       "[100 rows x 3 columns]"
      ]
     },
     "execution_count": 10,
     "metadata": {},
     "output_type": "execute_result"
    }
   ],
   "source": [
    "positive_samples = df[df['valence'] == 1].sample(n=50, random_state=42)\n",
    "negative_samples = df[df['valence'] == 0].sample(n=50, random_state=42)\n",
    "df_train = pd.concat([positive_samples,negative_samples],ignore_index = True)\n",
    "df_train"
   ]
  },
  {
   "cell_type": "code",
   "execution_count": 38,
   "id": "d25acc18-911c-4cc7-ac55-4e3b18373753",
   "metadata": {},
   "outputs": [],
   "source": [
    "# export the  set\n",
    "df_train.to_csv('pre_set.csv', index=False, encoding='utf-8-sig')"
   ]
  }
 ],
 "metadata": {
  "kernelspec": {
   "display_name": "Python 3 (ipykernel)",
   "language": "python",
   "name": "python3"
  },
  "language_info": {
   "codemirror_mode": {
    "name": "ipython",
    "version": 3
   },
   "file_extension": ".py",
   "mimetype": "text/x-python",
   "name": "python",
   "nbconvert_exporter": "python",
   "pygments_lexer": "ipython3",
   "version": "3.13.3"
  }
 },
 "nbformat": 4,
 "nbformat_minor": 5
}
