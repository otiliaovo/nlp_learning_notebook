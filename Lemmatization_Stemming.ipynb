{
 "cells": [
  {
   "cell_type": "code",
   "execution_count": 25,
   "id": "1e476fbd-e38a-48f8-8e1b-1108f238c8bf",
   "metadata": {},
   "outputs": [
    {
     "name": "stderr",
     "output_type": "stream",
     "text": [
      "[nltk_data] Downloading package wordnet to\n",
      "[nltk_data]     C:\\Users\\Yanhong\\AppData\\Roaming\\nltk_data...\n",
      "[nltk_data]   Package wordnet is already up-to-date!\n"
     ]
    }
   ],
   "source": [
    "import nltk\n",
    "nltk.download('wordnet')\n",
    "from nltk.stem import PorterStemmer, WordNetLemmatizer\n",
    "from nltk.tokenize import word_tokenize\n",
    "import pandas as pd\n",
    "import numpy as ny"
   ]
  },
  {
   "cell_type": "code",
   "execution_count": 13,
   "id": "fd865d0c-7b51-4dce-b2ef-3de855652688",
   "metadata": {
    "scrolled": true
   },
   "outputs": [],
   "source": [
    "# define stemming func\n",
    "stemming = PorterStemmer()"
   ]
  },
  {
   "cell_type": "code",
   "execution_count": 21,
   "id": "c0925200-64b1-4b3d-94b7-5830ec92d010",
   "metadata": {
    "scrolled": true
   },
   "outputs": [],
   "source": [
    "# define the lemmatizatio func\n",
    "lemmatizer = WordNetLemmatizer()"
   ]
  },
  {
   "cell_type": "code",
   "execution_count": 14,
   "id": "4fdf94e0-348b-4f5b-9d68-f4e706e696f4",
   "metadata": {},
   "outputs": [],
   "source": [
    "# set test list of words with suffixes \n",
    "words = [\"students\",\"programmer\",\"corpora\",\"analyses\",\"goes\"]\n",
    "string = \"Today afternoon I will go to the gym\""
   ]
  },
  {
   "cell_type": "code",
   "execution_count": 16,
   "id": "b6f3b792-eae7-43ae-832e-8f40a00cf826",
   "metadata": {
    "scrolled": true
   },
   "outputs": [
    {
     "data": {
      "text/plain": [
       "['Today', 'afternoon', 'I', 'will', 'go', 'to', 'the', 'gym']"
      ]
     },
     "execution_count": 16,
     "metadata": {},
     "output_type": "execute_result"
    }
   ],
   "source": [
    "# tokenize the example string \n",
    "tokens = word_tokenize(string)\n",
    "tokens"
   ]
  },
  {
   "cell_type": "code",
   "execution_count": 7,
   "id": "5fdd756f-d301-4fca-81f5-6d1e0ab7d452",
   "metadata": {},
   "outputs": [
    {
     "name": "stdout",
     "output_type": "stream",
     "text": [
      "students:student\n",
      "programmer:programm\n",
      "corpora:corpora\n",
      "analyses:analys\n",
      "goes:goe\n"
     ]
    }
   ],
   "source": [
    "# show the stems\n",
    "for w in words:\n",
    "    print(f\"{w}:{stemming.stem(w)}\")"
   ]
  },
  {
   "cell_type": "code",
   "execution_count": 24,
   "id": "4184524e-da22-47dc-a4eb-d6bbe6b8c775",
   "metadata": {},
   "outputs": [
    {
     "name": "stdout",
     "output_type": "stream",
     "text": [
      "students >>> student\n",
      "programmer >>> programmer\n",
      "corpora >>> corpus\n",
      "analyses >>> analysis\n",
      "goes >>> go\n"
     ]
    }
   ],
   "source": [
    "# show the lemms\n",
    "for w in words:\n",
    "    print(w,\">>>\",lemmatizer.lemmatize(w))"
   ]
  },
  {
   "cell_type": "code",
   "execution_count": 30,
   "id": "46e1acdd-eb79-4f0e-8f5a-d8954112d8de",
   "metadata": {},
   "outputs": [
    {
     "data": {
      "text/html": [
       "<div>\n",
       "<style scoped>\n",
       "    .dataframe tbody tr th:only-of-type {\n",
       "        vertical-align: middle;\n",
       "    }\n",
       "\n",
       "    .dataframe tbody tr th {\n",
       "        vertical-align: top;\n",
       "    }\n",
       "\n",
       "    .dataframe thead th {\n",
       "        text-align: right;\n",
       "    }\n",
       "</style>\n",
       "<table border=\"1\" class=\"dataframe\">\n",
       "  <thead>\n",
       "    <tr style=\"text-align: right;\">\n",
       "      <th></th>\n",
       "      <th>word</th>\n",
       "      <th>stem</th>\n",
       "      <th>lemma</th>\n",
       "    </tr>\n",
       "  </thead>\n",
       "  <tbody>\n",
       "    <tr>\n",
       "      <th>0</th>\n",
       "      <td>students</td>\n",
       "      <td>student</td>\n",
       "      <td>student</td>\n",
       "    </tr>\n",
       "    <tr>\n",
       "      <th>1</th>\n",
       "      <td>programmer</td>\n",
       "      <td>programm</td>\n",
       "      <td>programmer</td>\n",
       "    </tr>\n",
       "    <tr>\n",
       "      <th>2</th>\n",
       "      <td>corpora</td>\n",
       "      <td>corpora</td>\n",
       "      <td>corpus</td>\n",
       "    </tr>\n",
       "    <tr>\n",
       "      <th>3</th>\n",
       "      <td>analyses</td>\n",
       "      <td>analys</td>\n",
       "      <td>analysis</td>\n",
       "    </tr>\n",
       "    <tr>\n",
       "      <th>4</th>\n",
       "      <td>goes</td>\n",
       "      <td>goe</td>\n",
       "      <td>go</td>\n",
       "    </tr>\n",
       "  </tbody>\n",
       "</table>\n",
       "</div>"
      ],
      "text/plain": [
       "         word      stem       lemma\n",
       "0    students   student     student\n",
       "1  programmer  programm  programmer\n",
       "2     corpora   corpora      corpus\n",
       "3    analyses    analys    analysis\n",
       "4        goes       goe          go"
      ]
     },
     "execution_count": 30,
     "metadata": {},
     "output_type": "execute_result"
    }
   ],
   "source": [
    "# show both stemms and lemms\n",
    "df = pd.DataFrame(columns = [\"word\",\"stem\",\"lemma\"])\n",
    "\n",
    "for i in range(len(words)):\n",
    "    w = words[i]\n",
    "    df.loc[i] = [w,stemming.stem(w),lemmatizer.lemmatize(w)]\n",
    "df  "
   ]
  },
  {
   "cell_type": "code",
   "execution_count": null,
   "id": "39885215-2893-4df2-8619-5b2974ad8275",
   "metadata": {},
   "outputs": [],
   "source": []
  }
 ],
 "metadata": {
  "kernelspec": {
   "display_name": "Python 3 (ipykernel)",
   "language": "python",
   "name": "python3"
  },
  "language_info": {
   "codemirror_mode": {
    "name": "ipython",
    "version": 3
   },
   "file_extension": ".py",
   "mimetype": "text/x-python",
   "name": "python",
   "nbconvert_exporter": "python",
   "pygments_lexer": "ipython3",
   "version": "3.13.3"
  }
 },
 "nbformat": 4,
 "nbformat_minor": 5
}
